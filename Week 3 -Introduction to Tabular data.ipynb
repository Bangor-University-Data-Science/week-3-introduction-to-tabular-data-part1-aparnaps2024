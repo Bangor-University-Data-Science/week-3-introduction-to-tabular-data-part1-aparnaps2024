{
 "cells": [
  {
   "cell_type": "code",
   "execution_count": 1,
   "id": "11a4e49d-08fc-473a-b13c-a4f79278bf01",
   "metadata": {},
   "outputs": [],
   "source": [
    "import pandas as pd\n",
    "import numpy as np"
   ]
  },
  {
   "cell_type": "markdown",
   "id": "ed29e087-6eed-4ebf-8b97-8ddbf5f37300",
   "metadata": {},
   "source": [
    "# Load a sample dataset"
   ]
  },
  {
   "cell_type": "code",
   "execution_count": 2,
   "id": "165bfe8a-857a-4e90-9241-1d9f4d9df201",
   "metadata": {},
   "outputs": [],
   "source": [
    "df = pd.read_csv('data/titanic.csv')"
   ]
  },
  {
   "cell_type": "markdown",
   "id": "dc5a65af-ed8a-4ecc-8a87-39d3d10449e4",
   "metadata": {},
   "source": [
    "# 1. Exploring the Data\n",
    "## Show the first few rows of the dataframe"
   ]
  },
  {
   "cell_type": "code",
   "execution_count": 3,
   "id": "8a671101-1eb0-4571-b311-3c731112213b",
   "metadata": {},
   "outputs": [
    {
     "data": {
      "text/html": [
       "<div>\n",
       "<style scoped>\n",
       "    .dataframe tbody tr th:only-of-type {\n",
       "        vertical-align: middle;\n",
       "    }\n",
       "\n",
       "    .dataframe tbody tr th {\n",
       "        vertical-align: top;\n",
       "    }\n",
       "\n",
       "    .dataframe thead th {\n",
       "        text-align: right;\n",
       "    }\n",
       "</style>\n",
       "<table border=\"1\" class=\"dataframe\">\n",
       "  <thead>\n",
       "    <tr style=\"text-align: right;\">\n",
       "      <th></th>\n",
       "      <th>PassengerId</th>\n",
       "      <th>Survived</th>\n",
       "      <th>Pclass</th>\n",
       "      <th>Name</th>\n",
       "      <th>Sex</th>\n",
       "      <th>Age</th>\n",
       "      <th>SibSp</th>\n",
       "      <th>Parch</th>\n",
       "      <th>Ticket</th>\n",
       "      <th>Fare</th>\n",
       "      <th>Cabin</th>\n",
       "      <th>Embarked</th>\n",
       "    </tr>\n",
       "  </thead>\n",
       "  <tbody>\n",
       "    <tr>\n",
       "      <th>0</th>\n",
       "      <td>1</td>\n",
       "      <td>0</td>\n",
       "      <td>3</td>\n",
       "      <td>Braund, Mr. Owen Harris</td>\n",
       "      <td>male</td>\n",
       "      <td>22.0</td>\n",
       "      <td>1</td>\n",
       "      <td>0</td>\n",
       "      <td>A/5 21171</td>\n",
       "      <td>7.2500</td>\n",
       "      <td>NaN</td>\n",
       "      <td>S</td>\n",
       "    </tr>\n",
       "    <tr>\n",
       "      <th>1</th>\n",
       "      <td>2</td>\n",
       "      <td>1</td>\n",
       "      <td>1</td>\n",
       "      <td>Cumings, Mrs. John Bradley (Florence Briggs Th...</td>\n",
       "      <td>female</td>\n",
       "      <td>38.0</td>\n",
       "      <td>1</td>\n",
       "      <td>0</td>\n",
       "      <td>PC 17599</td>\n",
       "      <td>71.2833</td>\n",
       "      <td>C85</td>\n",
       "      <td>C</td>\n",
       "    </tr>\n",
       "    <tr>\n",
       "      <th>2</th>\n",
       "      <td>3</td>\n",
       "      <td>1</td>\n",
       "      <td>3</td>\n",
       "      <td>Heikkinen, Miss. Laina</td>\n",
       "      <td>female</td>\n",
       "      <td>26.0</td>\n",
       "      <td>0</td>\n",
       "      <td>0</td>\n",
       "      <td>STON/O2. 3101282</td>\n",
       "      <td>7.9250</td>\n",
       "      <td>NaN</td>\n",
       "      <td>S</td>\n",
       "    </tr>\n",
       "    <tr>\n",
       "      <th>3</th>\n",
       "      <td>4</td>\n",
       "      <td>1</td>\n",
       "      <td>1</td>\n",
       "      <td>Futrelle, Mrs. Jacques Heath (Lily May Peel)</td>\n",
       "      <td>female</td>\n",
       "      <td>35.0</td>\n",
       "      <td>1</td>\n",
       "      <td>0</td>\n",
       "      <td>113803</td>\n",
       "      <td>53.1000</td>\n",
       "      <td>C123</td>\n",
       "      <td>S</td>\n",
       "    </tr>\n",
       "    <tr>\n",
       "      <th>4</th>\n",
       "      <td>5</td>\n",
       "      <td>0</td>\n",
       "      <td>3</td>\n",
       "      <td>Allen, Mr. William Henry</td>\n",
       "      <td>male</td>\n",
       "      <td>35.0</td>\n",
       "      <td>0</td>\n",
       "      <td>0</td>\n",
       "      <td>373450</td>\n",
       "      <td>8.0500</td>\n",
       "      <td>NaN</td>\n",
       "      <td>S</td>\n",
       "    </tr>\n",
       "  </tbody>\n",
       "</table>\n",
       "</div>"
      ],
      "text/plain": [
       "   PassengerId  Survived  Pclass  \\\n",
       "0            1         0       3   \n",
       "1            2         1       1   \n",
       "2            3         1       3   \n",
       "3            4         1       1   \n",
       "4            5         0       3   \n",
       "\n",
       "                                                Name     Sex   Age  SibSp  \\\n",
       "0                            Braund, Mr. Owen Harris    male  22.0      1   \n",
       "1  Cumings, Mrs. John Bradley (Florence Briggs Th...  female  38.0      1   \n",
       "2                             Heikkinen, Miss. Laina  female  26.0      0   \n",
       "3       Futrelle, Mrs. Jacques Heath (Lily May Peel)  female  35.0      1   \n",
       "4                           Allen, Mr. William Henry    male  35.0      0   \n",
       "\n",
       "   Parch            Ticket     Fare Cabin Embarked  \n",
       "0      0         A/5 21171   7.2500   NaN        S  \n",
       "1      0          PC 17599  71.2833   C85        C  \n",
       "2      0  STON/O2. 3101282   7.9250   NaN        S  \n",
       "3      0            113803  53.1000  C123        S  \n",
       "4      0            373450   8.0500   NaN        S  "
      ]
     },
     "execution_count": 3,
     "metadata": {},
     "output_type": "execute_result"
    }
   ],
   "source": [
    "df.head()"
   ]
  },
  {
   "cell_type": "code",
   "execution_count": 4,
   "id": "74ab8982-ffbd-419c-9e95-c865b9c17fe7",
   "metadata": {},
   "outputs": [
    {
     "data": {
      "text/plain": [
       "(891, 12)"
      ]
     },
     "execution_count": 4,
     "metadata": {},
     "output_type": "execute_result"
    }
   ],
   "source": [
    "df.shape"
   ]
  },
  {
   "cell_type": "code",
   "execution_count": 5,
   "id": "2b05a55d-64f7-44fc-ae32-a4bdffb408ea",
   "metadata": {},
   "outputs": [
    {
     "data": {
      "text/plain": [
       "891"
      ]
     },
     "execution_count": 5,
     "metadata": {},
     "output_type": "execute_result"
    }
   ],
   "source": [
    "len(df)"
   ]
  },
  {
   "cell_type": "markdown",
   "id": "28e570c9-d18d-4df0-aea4-9e15ba3405bb",
   "metadata": {},
   "source": [
    "### Get all row indexes\n"
   ]
  },
  {
   "cell_type": "code",
   "execution_count": 6,
   "id": "b44997ce-404d-4011-8da0-728d37ca2e20",
   "metadata": {},
   "outputs": [
    {
     "name": "stdout",
     "output_type": "stream",
     "text": [
      "RangeIndex(start=0, stop=891, step=1)\n"
     ]
    }
   ],
   "source": [
    "indexes = df.index\n",
    "print(indexes)"
   ]
  },
  {
   "cell_type": "markdown",
   "id": "d7d63ff7-fc4f-4f71-a36c-1a70c4cdd1f5",
   "metadata": {},
   "source": [
    "### Get all column indexes (names)"
   ]
  },
  {
   "cell_type": "code",
   "execution_count": 7,
   "id": "62c29886-8753-4e2e-9121-fbd5932b72cb",
   "metadata": {
    "scrolled": true
   },
   "outputs": [
    {
     "name": "stdout",
     "output_type": "stream",
     "text": [
      "Index(['PassengerId', 'Survived', 'Pclass', 'Name', 'Sex', 'Age', 'SibSp',\n",
      "       'Parch', 'Ticket', 'Fare', 'Cabin', 'Embarked'],\n",
      "      dtype='object')\n"
     ]
    }
   ],
   "source": [
    "col_indexes = df.columns\n",
    "print(col_indexes)"
   ]
  },
  {
   "cell_type": "markdown",
   "id": "f568e118-543a-4ceb-b756-0e66135cab7c",
   "metadata": {},
   "source": [
    "### Get the name of the first column"
   ]
  },
  {
   "cell_type": "code",
   "execution_count": 8,
   "id": "156b4b76-4827-41da-92e3-5a153ecf3815",
   "metadata": {},
   "outputs": [
    {
     "name": "stdout",
     "output_type": "stream",
     "text": [
      "PassengerId\n"
     ]
    }
   ],
   "source": [
    "first_column_name = df.columns[0]\n",
    "print(first_column_name)"
   ]
  },
  {
   "cell_type": "markdown",
   "id": "c973a598-c6db-458c-a43f-6d527feae2b8",
   "metadata": {},
   "source": [
    "### transfer all columns to a list"
   ]
  },
  {
   "cell_type": "code",
   "execution_count": 9,
   "id": "7445a009-384a-441e-a078-42b5cf25297b",
   "metadata": {},
   "outputs": [
    {
     "data": {
      "text/plain": [
       "['PassengerId',\n",
       " 'Survived',\n",
       " 'Pclass',\n",
       " 'Name',\n",
       " 'Sex',\n",
       " 'Age',\n",
       " 'SibSp',\n",
       " 'Parch',\n",
       " 'Ticket',\n",
       " 'Fare',\n",
       " 'Cabin',\n",
       " 'Embarked']"
      ]
     },
     "execution_count": 9,
     "metadata": {},
     "output_type": "execute_result"
    }
   ],
   "source": [
    "df.columns.to_list()"
   ]
  },
  {
   "cell_type": "markdown",
   "id": "d79f9d6d-0d74-4fa1-b720-91c4ef634b4a",
   "metadata": {},
   "source": [
    "## Show a summary of the dataframe (rows, columns, missing values)"
   ]
  },
  {
   "cell_type": "code",
   "execution_count": 10,
   "id": "8deea961-ebb9-4167-9d3b-3f0af1053aa7",
   "metadata": {},
   "outputs": [
    {
     "name": "stdout",
     "output_type": "stream",
     "text": [
      "<class 'pandas.core.frame.DataFrame'>\n",
      "RangeIndex: 891 entries, 0 to 890\n",
      "Data columns (total 12 columns):\n",
      " #   Column       Non-Null Count  Dtype  \n",
      "---  ------       --------------  -----  \n",
      " 0   PassengerId  891 non-null    int64  \n",
      " 1   Survived     891 non-null    int64  \n",
      " 2   Pclass       891 non-null    int64  \n",
      " 3   Name         891 non-null    object \n",
      " 4   Sex          891 non-null    object \n",
      " 5   Age          714 non-null    float64\n",
      " 6   SibSp        891 non-null    int64  \n",
      " 7   Parch        891 non-null    int64  \n",
      " 8   Ticket       891 non-null    object \n",
      " 9   Fare         891 non-null    float64\n",
      " 10  Cabin        204 non-null    object \n",
      " 11  Embarked     889 non-null    object \n",
      "dtypes: float64(2), int64(5), object(5)\n",
      "memory usage: 83.7+ KB\n"
     ]
    }
   ],
   "source": [
    "df.info()"
   ]
  },
  {
   "cell_type": "code",
   "execution_count": 11,
   "id": "565c32eb-0a0d-4ef3-bb8c-55521723a0c7",
   "metadata": {},
   "outputs": [
    {
     "data": {
      "text/plain": [
       "PassengerId      int64\n",
       "Survived         int64\n",
       "Pclass           int64\n",
       "Name            object\n",
       "Sex             object\n",
       "Age            float64\n",
       "SibSp            int64\n",
       "Parch            int64\n",
       "Ticket          object\n",
       "Fare           float64\n",
       "Cabin           object\n",
       "Embarked        object\n",
       "dtype: object"
      ]
     },
     "execution_count": 11,
     "metadata": {},
     "output_type": "execute_result"
    }
   ],
   "source": [
    "# Check data types\n",
    "df.dtypes"
   ]
  },
  {
   "cell_type": "code",
   "execution_count": 12,
   "id": "6d6d9842-c0c8-4e0b-a04d-346b7796761a",
   "metadata": {},
   "outputs": [
    {
     "data": {
      "text/plain": [
       "['PassengerId', 'Survived', 'Pclass', 'Age', 'SibSp', 'Parch', 'Fare']"
      ]
     },
     "execution_count": 12,
     "metadata": {},
     "output_type": "execute_result"
    }
   ],
   "source": [
    "numerical_cols = df.select_dtypes(include=['int64', 'float64']).columns.to_list()\n",
    "numerical_cols"
   ]
  },
  {
   "cell_type": "code",
   "execution_count": 13,
   "id": "77579618-e359-4aac-80e5-36764b675074",
   "metadata": {},
   "outputs": [
    {
     "data": {
      "text/plain": [
       "['Name', 'Sex', 'Ticket', 'Cabin', 'Embarked']"
      ]
     },
     "execution_count": 13,
     "metadata": {},
     "output_type": "execute_result"
    }
   ],
   "source": [
    "categorical_cols = df.select_dtypes(include=['object', 'category', 'bool']).columns.to_list()\n",
    "categorical_cols"
   ]
  },
  {
   "cell_type": "code",
   "execution_count": 14,
   "id": "ef74a06d-2583-48d2-80c3-71977f5cda8b",
   "metadata": {},
   "outputs": [
    {
     "data": {
      "text/plain": [
       "array(['S', 'C', 'Q', nan], dtype=object)"
      ]
     },
     "execution_count": 14,
     "metadata": {},
     "output_type": "execute_result"
    }
   ],
   "source": [
    "df['Embarked'].unique()"
   ]
  },
  {
   "cell_type": "code",
   "execution_count": 15,
   "id": "10f44290-200e-4373-aa6c-1f4f9509a147",
   "metadata": {},
   "outputs": [
    {
     "data": {
      "text/plain": [
       "3"
      ]
     },
     "execution_count": 15,
     "metadata": {},
     "output_type": "execute_result"
    }
   ],
   "source": [
    "df['Embarked'].nunique()"
   ]
  },
  {
   "cell_type": "code",
   "execution_count": 16,
   "id": "f6707a1a-461d-47ae-bb13-e79239e33ca3",
   "metadata": {},
   "outputs": [
    {
     "data": {
      "text/plain": [
       "array(['male', 'female'], dtype=object)"
      ]
     },
     "execution_count": 16,
     "metadata": {},
     "output_type": "execute_result"
    }
   ],
   "source": [
    "df['Sex'].unique()"
   ]
  },
  {
   "cell_type": "code",
   "execution_count": 17,
   "id": "78f80fc3-1aa6-4480-aa53-f188b673e1da",
   "metadata": {},
   "outputs": [
    {
     "data": {
      "text/plain": [
       "2"
      ]
     },
     "execution_count": 17,
     "metadata": {},
     "output_type": "execute_result"
    }
   ],
   "source": [
    "df['Sex'].nunique()"
   ]
  },
  {
   "cell_type": "markdown",
   "id": "5ef9abea-4bf3-4c63-95b1-688ce1894d12",
   "metadata": {},
   "source": [
    "### Continuous and Discrete columns "
   ]
  },
  {
   "cell_type": "code",
   "execution_count": 18,
   "id": "e78d7244-efe1-4e2e-a9cc-31fcae0f3ea5",
   "metadata": {},
   "outputs": [],
   "source": [
    "continuous_cols = [col for col in numerical_cols if df[col].nunique() > 20 ]\n",
    "discrete_cols = [col for col in numerical_cols if df[col].nunique() <= 20 ]"
   ]
  },
  {
   "cell_type": "code",
   "execution_count": 19,
   "id": "98bcc890-60d8-43b5-b633-2d6a6efe509d",
   "metadata": {},
   "outputs": [
    {
     "data": {
      "text/plain": [
       "['PassengerId', 'Age', 'Fare']"
      ]
     },
     "execution_count": 19,
     "metadata": {},
     "output_type": "execute_result"
    }
   ],
   "source": [
    "continuous_cols"
   ]
  },
  {
   "cell_type": "code",
   "execution_count": 20,
   "id": "f00d7ca7-36ba-415b-bbe7-d8f9a710be84",
   "metadata": {},
   "outputs": [
    {
     "data": {
      "text/plain": [
       "['Survived', 'Pclass', 'SibSp', 'Parch']"
      ]
     },
     "execution_count": 20,
     "metadata": {},
     "output_type": "execute_result"
    }
   ],
   "source": [
    "discrete_cols"
   ]
  },
  {
   "cell_type": "markdown",
   "id": "ad14fe41-4f63-4551-bd02-b987b4075e46",
   "metadata": {},
   "source": [
    "# Identifying Numerical and Categorical Data\n",
    "## List all numerical columns"
   ]
  },
  {
   "cell_type": "code",
   "execution_count": 21,
   "id": "30c98607-fad8-47d1-8782-14824d480773",
   "metadata": {},
   "outputs": [
    {
     "name": "stdout",
     "output_type": "stream",
     "text": [
      "Numerical columns: ['PassengerId', 'Survived', 'Pclass', 'Age', 'SibSp', 'Parch', 'Fare']\n"
     ]
    }
   ],
   "source": [
    "\n",
    "numerical_cols = df.select_dtypes(include=[np.number]).columns.tolist()\n",
    "print(\"Numerical columns:\", numerical_cols)"
   ]
  },
  {
   "cell_type": "markdown",
   "id": "54bc08e4-0dbe-4aae-a5ae-7fce377ae888",
   "metadata": {},
   "source": [
    "## List all categorical columns"
   ]
  },
  {
   "cell_type": "code",
   "execution_count": 22,
   "id": "e9abd553-26c5-4fb3-8fb0-facd856849f6",
   "metadata": {},
   "outputs": [
    {
     "name": "stdout",
     "output_type": "stream",
     "text": [
      "Categorical columns: ['Name', 'Sex', 'Ticket', 'Cabin', 'Embarked']\n"
     ]
    }
   ],
   "source": [
    "categorical_cols = df.select_dtypes(exclude=[np.number]).columns.tolist()\n",
    "print(\"Categorical columns:\", categorical_cols)"
   ]
  },
  {
   "cell_type": "markdown",
   "id": "26a92066-d046-404f-b5eb-40fe1acef8a4",
   "metadata": {},
   "source": [
    "# Homework 1: Introduction to Tabular Data\n",
    "\n",
    " **Create a Feature Type Dictionary:**\n",
    "   - Load the Titanic dataset into a DataFrame.\n",
    "   - Create a dictionary that classifies features:\n",
    "     - **Numerical (continuous or discrete):** List of numerical features.\n",
    "     - **Categorical (nominal or ordinal):** List of categorical features.\n",
    "\n",
    "   ```python\n",
    "   feature_types = {\n",
    "       'numerical': {\n",
    "           'continuous': [],  # Fill with continuous numerical features\n",
    "           'discrete': []  # Fill with discrete numerical features\n",
    "       },\n",
    "       'categorical': {\n",
    "           'nominal': [],  # Fill with nominal categorical features\n",
    "           'ordinal': []  # Fill with ordinal categorical features\n",
    "       }\n",
    "   }\n"
   ]
  },
  {
   "cell_type": "markdown",
   "id": "e4a83b91-49f5-4d9c-a005-c58ae2387094",
   "metadata": {},
   "source": [
    "# Homework 2: Create a DataFrame with Only Numerical Features:\n",
    "### Use DataFrame selection to create a new DataFrame that contains only numerical features from the Titanic dataset.\n",
    "```python\n",
    "numerical_df = df[['list', 'of', 'numerical', 'features']]\n",
    "\n"
   ]
  },
  {
   "cell_type": "markdown",
   "id": "c9bbddd4-5650-454a-b42f-a2ba0aea7715",
   "metadata": {},
   "source": [
    "# Homework 3: Display Unique Values for Categorical Columns:\n",
    "### Select the categorical features and display the unique values for each categorical column.\n",
    "\n",
    "\n"
   ]
  },
  {
   "cell_type": "markdown",
   "id": "c1cc9d05-3046-4957-96b9-b1b20577bb8b",
   "metadata": {},
   "source": [
    "# Homework 4: Create a Simple Summary Table:\n",
    "### Create a summary DataFrame with columns such as Feature Name, Data Type, Number of Unique Values, and Has Missing Values?.\n"
   ]
  },
  {
   "cell_type": "code",
   "execution_count": null,
   "id": "c1f74bfb-78a6-48d4-9562-fecd3f5894ab",
   "metadata": {},
   "outputs": [],
   "source": []
  }
 ],
 "metadata": {
  "kernelspec": {
   "display_name": "ml-env",
   "language": "python",
   "name": "ml-env"
  },
  "language_info": {
   "codemirror_mode": {
    "name": "ipython",
    "version": 3
   },
   "file_extension": ".py",
   "mimetype": "text/x-python",
   "name": "python",
   "nbconvert_exporter": "python",
   "pygments_lexer": "ipython3",
   "version": "3.12.3"
  }
 },
 "nbformat": 4,
 "nbformat_minor": 5
}
